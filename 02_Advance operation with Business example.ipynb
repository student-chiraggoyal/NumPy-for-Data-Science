{
 "cells": [
  {
   "metadata": {},
   "cell_type": "markdown",
   "source": "# Advance operation with Business example",
   "id": "dd5f25bb245b3c72"
  },
  {
   "cell_type": "code",
   "id": "initial_id",
   "metadata": {
    "collapsed": true,
    "ExecuteTime": {
     "end_time": "2025-04-03T17:12:41.002730Z",
     "start_time": "2025-04-03T17:12:40.648487Z"
    }
   },
   "source": [
    "import numpy as np\n",
    "import matplotlib.pyplot as plt"
   ],
   "outputs": [],
   "execution_count": 1
  },
  {
   "metadata": {},
   "cell_type": "markdown",
   "source": "### Data structure: [restaurant_id, 2021, 2022, 2023, 2024]",
   "id": "ca2e548ea5e7336"
  },
  {
   "metadata": {
    "ExecuteTime": {
     "end_time": "2025-04-03T17:12:41.013393Z",
     "start_time": "2025-04-03T17:12:41.002730Z"
    }
   },
   "cell_type": "code",
   "source": [
    "sales_data = np.array([\n",
    "    [1, 150000, 180000, 220000, 250000],    # Paradise Biryani\n",
    "    [2, 120000, 140000, 160000, 190000],    # Beijing Bites\n",
    "    [3, 200000, 230000, 260000, 300000],    # Pizza Hub\n",
    "    [4, 180000, 210000, 240000, 270000],    # Burger Point\n",
    "    [5, 160000, 185000, 205000, 230000],    # Chai Point\n",
    "])\n",
    "\n",
    "print(\"==== Zomato sales analysis ====\")"
   ],
   "id": "85b2b6f7ba12ae00",
   "outputs": [
    {
     "name": "stdout",
     "output_type": "stream",
     "text": [
      "==== Zomato sales analysis ====\n"
     ]
    }
   ],
   "execution_count": 2
  },
  {
   "metadata": {},
   "cell_type": "markdown",
   "source": "* Some basic operations",
   "id": "99e0c6a12793acdd"
  },
  {
   "metadata": {
    "ExecuteTime": {
     "end_time": "2025-04-03T17:12:41.136910Z",
     "start_time": "2025-04-03T17:12:41.133910Z"
    }
   },
   "cell_type": "code",
   "source": [
    "print(\"\\n Sales data shape: \",sales_data.shape)\n",
    "\n",
    "print(\"\\n Sample data for 1st 3 restaurants: \", sales_data[:3])\n",
    "\n",
    "print(sales_data[:, 1:])        #it means all rows and all columns expect 0th column."
   ],
   "id": "a90da6a803dc0b8f",
   "outputs": [
    {
     "name": "stdout",
     "output_type": "stream",
     "text": [
      "\n",
      " Sales data shape:  (5, 5)\n",
      "\n",
      " Sample data for 1st 3 restaurants:  [[     1 150000 180000 220000 250000]\n",
      " [     2 120000 140000 160000 190000]\n",
      " [     3 200000 230000 260000 300000]]\n",
      "[[150000 180000 220000 250000]\n",
      " [120000 140000 160000 190000]\n",
      " [200000 230000 260000 300000]\n",
      " [180000 210000 240000 270000]\n",
      " [160000 185000 205000 230000]]\n"
     ]
    }
   ],
   "execution_count": 3
  },
  {
   "metadata": {},
   "cell_type": "markdown",
   "source": [
    "*  total sales per year ----> ek saal mein total kitni sales hui hai\n",
    "   * axis = 0 means about the column\n",
    "   * axis = 1 means about the row"
   ],
   "id": "ca0a52f78b65204a"
  },
  {
   "metadata": {
    "ExecuteTime": {
     "end_time": "2025-04-03T17:12:41.149875Z",
     "start_time": "2025-04-03T17:12:41.145844Z"
    }
   },
   "cell_type": "code",
   "source": [
    "print(np.sum(sales_data, axis=0))\n",
    "\n",
    "# total sales per year\n",
    "yearly_total = np.sum(sales_data[:, 1:], axis=0)\n",
    "print(yearly_total)\n",
    "\n",
    "# total sales per restaurant\n",
    "rest_total = np.sum(sales_data[:, 1:], axis=1)\n",
    "print(rest_total)"
   ],
   "id": "275c7f4f62de3761",
   "outputs": [
    {
     "name": "stdout",
     "output_type": "stream",
     "text": [
      "[     15  810000  945000 1085000 1240000]\n",
      "[ 810000  945000 1085000 1240000]\n",
      "[800000 610000 990000 900000 780000]\n"
     ]
    }
   ],
   "execution_count": 4
  },
  {
   "metadata": {},
   "cell_type": "markdown",
   "source": "* Minimum sales per restaurant",
   "id": "8bd93513e8b698e7"
  },
  {
   "metadata": {
    "ExecuteTime": {
     "end_time": "2025-04-03T17:12:41.180722Z",
     "start_time": "2025-04-03T17:12:41.176722Z"
    }
   },
   "cell_type": "code",
   "source": [
    "# Minimum sales per restaurant\n",
    "min_sale = np.min(sales_data[:, 1:], axis=1)\n",
    "print(min_sale)\n",
    "\n",
    "# Minimum sales per year\n",
    "min_sale_year = np.min(sales_data[:, 1:], axis=0)\n",
    "print(min_sale_year)"
   ],
   "id": "63638d46c2db0290",
   "outputs": [
    {
     "name": "stdout",
     "output_type": "stream",
     "text": [
      "[150000 120000 200000 180000 160000]\n",
      "[120000 140000 160000 190000]\n"
     ]
    }
   ],
   "execution_count": 5
  },
  {
   "metadata": {},
   "cell_type": "markdown",
   "source": "* Maximum sales per year and per restaurant",
   "id": "13621f8873d2bb3"
  },
  {
   "metadata": {
    "ExecuteTime": {
     "end_time": "2025-04-03T17:12:41.206361Z",
     "start_time": "2025-04-03T17:12:41.201843Z"
    }
   },
   "cell_type": "code",
   "source": [
    "# Maximum sales per restaurant\n",
    "max_sales_res = np.max(sales_data[:, 1:], axis=1)\n",
    "print(max_sales_res)\n",
    "\n",
    "# Maximum sales per year\n",
    "max_sales_year = np.max(sales_data[:, 1:], axis=0)\n",
    "print(max_sales_year)"
   ],
   "id": "4fa223588407cd02",
   "outputs": [
    {
     "name": "stdout",
     "output_type": "stream",
     "text": [
      "[250000 190000 300000 270000 230000]\n",
      "[200000 230000 260000 300000]\n"
     ]
    }
   ],
   "execution_count": 6
  },
  {
   "metadata": {},
   "cell_type": "markdown",
   "source": "* Average sales per restaurant",
   "id": "f3105633db94c058"
  },
  {
   "metadata": {
    "ExecuteTime": {
     "end_time": "2025-04-03T17:12:41.235795Z",
     "start_time": "2025-04-03T17:12:41.230595Z"
    }
   },
   "cell_type": "code",
   "source": [
    "avg_res = np.average(sales_data[:, 1:], axis=1)\n",
    "print(avg_res)"
   ],
   "id": "a7b57e7a095aa2d5",
   "outputs": [
    {
     "name": "stdout",
     "output_type": "stream",
     "text": [
      "[200000. 152500. 247500. 225000. 195000.]\n"
     ]
    }
   ],
   "execution_count": 7
  },
  {
   "metadata": {},
   "cell_type": "markdown",
   "source": "* cumulative sale per restaurant",
   "id": "21bdce629420718"
  },
  {
   "metadata": {
    "ExecuteTime": {
     "end_time": "2025-04-03T17:12:41.378535Z",
     "start_time": "2025-04-03T17:12:41.253640Z"
    }
   },
   "cell_type": "code",
   "source": [
    "cumsum_res = np.cumsum(sales_data[:, 1:], axis=1)\n",
    "print(cumsum_res)\n",
    "\n",
    "\n",
    "plt.figure(figsize=(10, 6))\n",
    "plt.plot(np.mean(cumsum_res, axis=0))\n",
    "plt.title(\"Average Cumulative sales data across all restaurants\")\n",
    "plt.xlabel(\"Years\")\n",
    "plt.ylabel(\"Sales data\")\n",
    "plt.grid(True)\n",
    "plt.show()"
   ],
   "id": "da4aa6df921f2e1c",
   "outputs": [
    {
     "name": "stdout",
     "output_type": "stream",
     "text": [
      "[[150000 330000 550000 800000]\n",
      " [120000 260000 420000 610000]\n",
      " [200000 430000 690000 990000]\n",
      " [180000 390000 630000 900000]\n",
      " [160000 345000 550000 780000]]\n"
     ]
    },
    {
     "data": {
      "text/plain": [
       "<Figure size 1000x600 with 1 Axes>"
      ],
      "image/png": "[encoded data removed]"
     },
     "metadata": {},
     "output_type": "display_data"
    }
   ],
   "execution_count": 8
  },
  {
   "metadata": {},
   "cell_type": "markdown",
   "source": "* Monthly average sales",
   "id": "880694610ad385b6"
  },
  {
   "metadata": {
    "ExecuteTime": {
     "end_time": "2025-04-03T17:12:41.390290Z",
     "start_time": "2025-04-03T17:12:41.384916Z"
    }
   },
   "cell_type": "code",
   "source": [
    "monthly_avg = sales_data[:, 1:] / 12\n",
    "print(monthly_avg)"
   ],
   "id": "c17ddd29512c14e9",
   "outputs": [
    {
     "name": "stdout",
     "output_type": "stream",
     "text": [
      "[[12500.         15000.         18333.33333333 20833.33333333]\n",
      " [10000.         11666.66666667 13333.33333333 15833.33333333]\n",
      " [16666.66666667 19166.66666667 21666.66666667 25000.        ]\n",
      " [15000.         17500.         20000.         22500.        ]\n",
      " [13333.33333333 15416.66666667 17083.33333333 19166.66666667]]\n"
     ]
    }
   ],
   "execution_count": 9
  }
 ],
 "metadata": {
  "kernelspec": {
   "display_name": "Python 3",
   "language": "python",
   "name": "python3"
  },
  "language_info": {
   "codemirror_mode": {
    "name": "ipython",
    "version": 2
   },
   "file_extension": ".py",
   "mimetype": "text/x-python",
   "name": "python",
   "nbconvert_exporter": "python",
   "pygments_lexer": "ipython2",
   "version": "2.7.6"
  }
 },
 "nbformat": 4,
 "nbformat_minor": 5
}
