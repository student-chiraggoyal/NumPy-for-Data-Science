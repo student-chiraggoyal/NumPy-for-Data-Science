{
 "cells": [
  {
   "metadata": {},
   "cell_type": "markdown",
   "source": [
    "# Basics of NumPy\n",
    "\n",
    "NumPy - Numerical Python\n",
    "\n",
    "Advantages of Numpy Arrays:\n",
    "1. Allows several mathematical operations\n",
    "2. Faster operations"
   ],
   "id": "f8422b520e1a15d5"
  },
  {
   "metadata": {
    "ExecuteTime": {
     "end_time": "2025-04-03T17:12:22.726223Z",
     "start_time": "2025-04-03T17:12:22.649684Z"
    }
   },
   "cell_type": "code",
   "source": [
    "import numpy as np\n",
    "from numpy.ma.core import indices"
   ],
   "id": "3658a3bff3b48686",
   "outputs": [],
   "execution_count": 1
  },
  {
   "metadata": {},
   "cell_type": "markdown",
   "source": "### List vs Numpy - Time Taken",
   "id": "665c954ebc67d71a"
  },
  {
   "metadata": {
    "ExecuteTime": {
     "end_time": "2025-04-03T17:12:22.737664Z",
     "start_time": "2025-04-03T17:12:22.734837Z"
    }
   },
   "cell_type": "code",
   "source": "from time import process_time",
   "id": "5e5a77bed9a41f36",
   "outputs": [],
   "execution_count": 2
  },
  {
   "metadata": {},
   "cell_type": "markdown",
   "source": "Time taken by a list",
   "id": "28f87524b6319d86"
  },
  {
   "metadata": {
    "ExecuteTime": {
     "end_time": "2025-04-03T17:12:23.481721Z",
     "start_time": "2025-04-03T17:12:22.740992Z"
    }
   },
   "cell_type": "code",
   "source": [
    "python_list = [i for i in range(10000000)]\n",
    "\n",
    "start_time = process_time()\n",
    "\n",
    "python_list = [i+5 for i in python_list]    #adding 5 in all the values of i one by one\n",
    "\n",
    "end_time = process_time()\n",
    "\n",
    "print(end_time - start_time)"
   ],
   "id": "40cdcaf71108fc6e",
   "outputs": [
    {
     "name": "stdout",
     "output_type": "stream",
     "text": [
      "0.421875\n"
     ]
    }
   ],
   "execution_count": 3
  },
  {
   "metadata": {},
   "cell_type": "markdown",
   "source": "Time taken by an numpy array",
   "id": "521c5e5e633b9cfb"
  },
  {
   "metadata": {
    "ExecuteTime": {
     "end_time": "2025-04-03T17:12:24.363377Z",
     "start_time": "2025-04-03T17:12:23.709967Z"
    }
   },
   "cell_type": "code",
   "source": [
    "np_array = np.array([i for i in range(10000000)])\n",
    "\n",
    "start_time = process_time()\n",
    "\n",
    "np_array += 5\n",
    "\n",
    "end_time = process_time()\n",
    "\n",
    "print(end_time - start_time)"
   ],
   "id": "4d9a7f02b3bd6476",
   "outputs": [
    {
     "name": "stdout",
     "output_type": "stream",
     "text": [
      "0.015625\n"
     ]
    }
   ],
   "execution_count": 4
  },
  {
   "metadata": {},
   "cell_type": "markdown",
   "source": [
    "* time taken by list = 0.546875ms and\n",
    "* time taken by numpy array = 0.051625ms\n",
    "\n",
    "Hence it can be clearly seen that numpy array takes less time for the execution. This is one of the major advantage to use numpy arrays over the lists."
   ],
   "id": "1f28f0fbaf8034b1"
  },
  {
   "metadata": {},
   "cell_type": "markdown",
   "source": "### Numpy Arrays",
   "id": "7380c6cb059fc764"
  },
  {
   "metadata": {
    "ExecuteTime": {
     "end_time": "2025-04-03T17:12:24.377149Z",
     "start_time": "2025-04-03T17:12:24.370880Z"
    }
   },
   "cell_type": "code",
   "source": [
    "# List\n",
    "list1 = [1,2,3,4,5]\n",
    "print(list1)\n",
    "type(list1)"
   ],
   "id": "17f385606f617113",
   "outputs": [
    {
     "name": "stdout",
     "output_type": "stream",
     "text": [
      "[1, 2, 3, 4, 5]\n"
     ]
    },
    {
     "data": {
      "text/plain": [
       "list"
      ]
     },
     "execution_count": 5,
     "metadata": {},
     "output_type": "execute_result"
    }
   ],
   "execution_count": 5
  },
  {
   "metadata": {
    "ExecuteTime": {
     "end_time": "2025-04-03T17:12:24.422024Z",
     "start_time": "2025-04-03T17:12:24.410875Z"
    }
   },
   "cell_type": "code",
   "source": [
    "# arrays\n",
    "np_array = np.array([1,2,3,4,5])\n",
    "print(np_array)\n",
    "type(np_array)          # ndarray means the n-dimensional array"
   ],
   "id": "3fb940ba3da9f2a1",
   "outputs": [
    {
     "name": "stdout",
     "output_type": "stream",
     "text": [
      "[1 2 3 4 5]\n"
     ]
    },
    {
     "data": {
      "text/plain": [
       "numpy.ndarray"
      ]
     },
     "execution_count": 6,
     "metadata": {},
     "output_type": "execute_result"
    }
   ],
   "execution_count": 6
  },
  {
   "metadata": {},
   "cell_type": "markdown",
   "source": "1-D Array",
   "id": "c60ffe1684552fbf"
  },
  {
   "metadata": {
    "ExecuteTime": {
     "end_time": "2025-04-03T17:12:24.457650Z",
     "start_time": "2025-04-03T17:12:24.451865Z"
    }
   },
   "cell_type": "code",
   "source": [
    "oned_array = np.array([10,20,30,40,50])\n",
    "print(oned_array)\n",
    "oned_array.shape"
   ],
   "id": "548bf6339a8e8ab4",
   "outputs": [
    {
     "name": "stdout",
     "output_type": "stream",
     "text": [
      "[10 20 30 40 50]\n"
     ]
    },
    {
     "data": {
      "text/plain": [
       "(5,)"
      ]
     },
     "execution_count": 7,
     "metadata": {},
     "output_type": "execute_result"
    }
   ],
   "execution_count": 7
  },
  {
   "metadata": {},
   "cell_type": "markdown",
   "source": [
    "* Shape method is used to show the no of rows and the no of columns in an array\n",
    "* ndim method is used to print the no of dimensions of the array\n",
    "\n",
    "2-D Array"
   ],
   "id": "792196dd3c2dbce"
  },
  {
   "metadata": {
    "ExecuteTime": {
     "end_time": "2025-04-03T17:12:24.531777Z",
     "start_time": "2025-04-03T17:12:24.525218Z"
    }
   },
   "cell_type": "code",
   "source": [
    "twod_array = np.array([(10, 20, 30, 40, 50), (23, 43, 32, 54, 65)])\n",
    "print(twod_array)\n",
    "twod_array.shape\n",
    "\n",
    "# twod_array.ndim -> 2 (it means the no of dimensions in the array)"
   ],
   "id": "2774ca80559c1070",
   "outputs": [
    {
     "name": "stdout",
     "output_type": "stream",
     "text": [
      "[[10 20 30 40 50]\n",
      " [23 43 32 54 65]]\n"
     ]
    },
    {
     "data": {
      "text/plain": [
       "(2, 5)"
      ]
     },
     "execution_count": 8,
     "metadata": {},
     "output_type": "execute_result"
    }
   ],
   "execution_count": 8
  },
  {
   "metadata": {},
   "cell_type": "markdown",
   "source": "* There are 2 rows and the 5 columns in the twod_array",
   "id": "cac6068bed24e635"
  },
  {
   "metadata": {},
   "cell_type": "markdown",
   "source": "Also we can create an array with the floating point values",
   "id": "6e3b3c7aff8b12c7"
  },
  {
   "metadata": {
    "ExecuteTime": {
     "end_time": "2025-04-03T17:12:24.592028Z",
     "start_time": "2025-04-03T17:12:24.586481Z"
    }
   },
   "cell_type": "code",
   "source": [
    "c = np.array([(10,20,30,40,50), (23, 43, 32, 54, 65)], dtype=float)\n",
    "print(c)\n",
    "type(c)"
   ],
   "id": "e3a707b8c7916214",
   "outputs": [
    {
     "name": "stdout",
     "output_type": "stream",
     "text": [
      "[[10. 20. 30. 40. 50.]\n",
      " [23. 43. 32. 54. 65.]]\n"
     ]
    },
    {
     "data": {
      "text/plain": [
       "numpy.ndarray"
      ]
     },
     "execution_count": 9,
     "metadata": {},
     "output_type": "execute_result"
    }
   ],
   "execution_count": 9
  },
  {
   "metadata": {},
   "cell_type": "markdown",
   "source": "Initial placeholders in numpy arrays",
   "id": "b8b8ba0cb0ed946a"
  },
  {
   "metadata": {
    "ExecuteTime": {
     "end_time": "2025-04-03T17:12:24.632088Z",
     "start_time": "2025-04-03T17:12:24.625385Z"
    }
   },
   "cell_type": "code",
   "source": [
    "# create a numpy arrays of zeros\n",
    "x = np.zeros((4, 5))        #it means that all the values are zeros of the matrix in which 4 rows and 5 columns are there.\n",
    "print(x)"
   ],
   "id": "5c57fbd6587a6412",
   "outputs": [
    {
     "name": "stdout",
     "output_type": "stream",
     "text": [
      "[[0. 0. 0. 0. 0.]\n",
      " [0. 0. 0. 0. 0.]\n",
      " [0. 0. 0. 0. 0.]\n",
      " [0. 0. 0. 0. 0.]]\n"
     ]
    }
   ],
   "execution_count": 10
  },
  {
   "metadata": {
    "ExecuteTime": {
     "end_time": "2025-04-03T17:12:24.679207Z",
     "start_time": "2025-04-03T17:12:24.673630Z"
    }
   },
   "cell_type": "code",
   "source": [
    "# create an numpy array of ones\n",
    "y = np.ones((6, 2))\n",
    "print(y)"
   ],
   "id": "c465952dd95ce8db",
   "outputs": [
    {
     "name": "stdout",
     "output_type": "stream",
     "text": [
      "[[1. 1.]\n",
      " [1. 1.]\n",
      " [1. 1.]\n",
      " [1. 1.]\n",
      " [1. 1.]\n",
      " [1. 1.]]\n"
     ]
    }
   ],
   "execution_count": 11
  },
  {
   "metadata": {
    "ExecuteTime": {
     "end_time": "2025-04-03T17:12:24.719701Z",
     "start_time": "2025-04-03T17:12:24.705690Z"
    }
   },
   "cell_type": "code",
   "source": [
    "# create an numpy array of a particular value\n",
    "z = np.full((3, 4), 7)\n",
    "print(z)"
   ],
   "id": "c55582b45fee0dd8",
   "outputs": [
    {
     "name": "stdout",
     "output_type": "stream",
     "text": [
      "[[7 7 7 7]\n",
      " [7 7 7 7]\n",
      " [7 7 7 7]]\n"
     ]
    }
   ],
   "execution_count": 12
  },
  {
   "metadata": {
    "ExecuteTime": {
     "end_time": "2025-04-03T17:12:24.752543Z",
     "start_time": "2025-04-03T17:12:24.749091Z"
    }
   },
   "cell_type": "code",
   "source": [
    "# create an identity matrix\n",
    "a = np.eye(4)\n",
    "print(a)"
   ],
   "id": "bc4ee1a3b5c27ac1",
   "outputs": [
    {
     "name": "stdout",
     "output_type": "stream",
     "text": [
      "[[1. 0. 0. 0.]\n",
      " [0. 1. 0. 0.]\n",
      " [0. 0. 1. 0.]\n",
      " [0. 0. 0. 1.]]\n"
     ]
    }
   ],
   "execution_count": 13
  },
  {
   "metadata": {},
   "cell_type": "markdown",
   "source": [
    "1. we don't need to specify the no of rows and cols because identity matrix have equal values of rows and cols. Hence we only need to specify the size of the matrix, in this case size is 4. Therefore, it create a 4x4 matrix in which diagonal elements are 1.\n",
    "2. eye() function is used to create the identity matrix.."
   ],
   "id": "87ac52322139f6af"
  },
  {
   "metadata": {
    "ExecuteTime": {
     "end_time": "2025-04-03T17:12:24.784780Z",
     "start_time": "2025-04-03T17:12:24.780753Z"
    }
   },
   "cell_type": "code",
   "source": [
    "# create a numpy array with the random values\n",
    "b = np.random.random((4, 5))\n",
    "print(b)"
   ],
   "id": "e084ea01d28a734c",
   "outputs": [
    {
     "name": "stdout",
     "output_type": "stream",
     "text": [
      "[[0.68301935 0.12778808 0.35148915 0.45284389 0.75818356]\n",
      " [0.99279993 0.88986564 0.01168817 0.77251679 0.71366597]\n",
      " [0.91422054 0.29365173 0.52550587 0.55324383 0.85693392]\n",
      " [0.09448708 0.02161394 0.51269028 0.07766995 0.91792237]]\n"
     ]
    }
   ],
   "execution_count": 14
  },
  {
   "metadata": {
    "ExecuteTime": {
     "end_time": "2025-04-03T17:12:24.823782Z",
     "start_time": "2025-04-03T17:12:24.819564Z"
    }
   },
   "cell_type": "code",
   "source": [
    "# random integer values array within a specific range\n",
    "c = np.random.randint(10, 100, (3, 5))\n",
    "print(c)"
   ],
   "id": "55955a383d32f94f",
   "outputs": [
    {
     "name": "stdout",
     "output_type": "stream",
     "text": [
      "[[79 33 58 12 51]\n",
      " [64 59 83 42 26]\n",
      " [38 22 47 23 55]]\n"
     ]
    }
   ],
   "execution_count": 15
  },
  {
   "metadata": {},
   "cell_type": "markdown",
   "source": "it means that the array size is 3x5 in which elements are random integers values from 10 to 100",
   "id": "f38a52bb036192db"
  },
  {
   "metadata": {},
   "cell_type": "markdown",
   "source": [
    "flatten() converts all the elements of the array in one row.\n",
    "it returns the copy of the original array\n",
    "\n",
    "ravel() -> returns view, instead of copy"
   ],
   "id": "acd098868e07160"
  },
  {
   "metadata": {
    "ExecuteTime": {
     "end_time": "2025-04-03T17:12:24.853095Z",
     "start_time": "2025-04-03T17:12:24.848756Z"
    }
   },
   "cell_type": "code",
   "source": [
    "c = np.random.randint(10, 100, (3, 5))\n",
    "flattened_c = c.flatten()\n",
    "print(flattened_c)\n",
    "\n",
    "raveled_c = c.ravel()\n",
    "print(raveled_c)"
   ],
   "id": "5d04042f211e8ea2",
   "outputs": [
    {
     "name": "stdout",
     "output_type": "stream",
     "text": [
      "[58 25 67 80 66 56 11 86 88 38 27 61 62 32 59]\n",
      "[58 25 67 80 66 56 11 86 88 38 27 61 62 32 59]\n"
     ]
    }
   ],
   "execution_count": 16
  },
  {
   "metadata": {
    "ExecuteTime": {
     "end_time": "2025-04-03T17:12:24.890357Z",
     "start_time": "2025-04-03T17:12:24.885977Z"
    }
   },
   "cell_type": "code",
   "source": [
    "# array of evenly spaced values ---> specifying the number of values required\n",
    "#ex-1\n",
    "d = np.linspace(10, 30, 5)\n",
    "print(d)\n",
    "\n",
    "# ex-2\n",
    "e = np.linspace(10, 30, 6)\n",
    "print(e)\n",
    "\n",
    "# ex-3\n",
    "f = np.linspace(1, 3, 4)\n",
    "print(f)"
   ],
   "id": "e5a2286cfa01cfe2",
   "outputs": [
    {
     "name": "stdout",
     "output_type": "stream",
     "text": [
      "[10. 15. 20. 25. 30.]\n",
      "[10. 14. 18. 22. 26. 30.]\n",
      "[1.         1.66666667 2.33333333 3.        ]\n"
     ]
    }
   ],
   "execution_count": 17
  },
  {
   "metadata": {},
   "cell_type": "markdown",
   "source": [
    "evenly spaced means the difference btw two elements are same\n",
    "\n",
    "(in ex-2 it concludes that we require total 6 values with same difference and they lies btw from 10 to 30 and same for other examples)"
   ],
   "id": "4ef489f83a7a465e"
  },
  {
   "metadata": {
    "ExecuteTime": {
     "end_time": "2025-04-03T17:12:24.921772Z",
     "start_time": "2025-04-03T17:12:24.917661Z"
    }
   },
   "cell_type": "code",
   "source": [
    "# array of evenly spaced values ---> specifying the step\n",
    "# ex-1\n",
    "g = np.arange(10, 20, 4)\n",
    "print(g)\n",
    "\n",
    "# ex-2\n",
    "h = np.arange(20, 100, 4)\n",
    "print(h)"
   ],
   "id": "50bbc982e526fbef",
   "outputs": [
    {
     "name": "stdout",
     "output_type": "stream",
     "text": [
      "[10 14 18]\n",
      "[20 24 28 32 36 40 44 48 52 56 60 64 68 72 76 80 84 88 92 96]\n"
     ]
    }
   ],
   "execution_count": 18
  },
  {
   "metadata": {},
   "cell_type": "markdown",
   "source": [
    "1. it means that no of values are not required here.\n",
    "2. here we required the no of steps.\n",
    "3. it means that the elements of the matrix should lies btw 10 to 20 but the step should be 4.\n",
    "4. it means that the first element strat with 10 then the next is after 4 steps i.e. 14 and then 18"
   ],
   "id": "ff6fa44c0b0f343c"
  },
  {
   "metadata": {
    "ExecuteTime": {
     "end_time": "2025-04-03T17:12:24.950349Z",
     "start_time": "2025-04-03T17:12:24.943184Z"
    }
   },
   "cell_type": "code",
   "source": [
    "# convert a list into an numpy array\n",
    "print(\"converting a list into an numpy array\")\n",
    "list2 = [(10, 20, 30, 20, 40, 40), (10, 20, 30, 20, 40, 40)]\n",
    "print(list2)\n",
    "\n",
    "np_array = np.asarray(list2)\n",
    "print(np_array)\n",
    "type(np_array)\n",
    "\n",
    "\n",
    "# converting a tuple into an array\n",
    "print(\"converting a tuple into a numpy array\")\n",
    "list3 = ((1, 3, 5, 6), (7, 8, 9, 4))\n",
    "print(list3)\n",
    "\n",
    "npp_array = np.asarray(list3)\n",
    "print(npp_array)\n",
    "type(npp_array)"
   ],
   "id": "ae12e1938d2a603a",
   "outputs": [
    {
     "name": "stdout",
     "output_type": "stream",
     "text": [
      "converting a list into an numpy array\n",
      "[(10, 20, 30, 20, 40, 40), (10, 20, 30, 20, 40, 40)]\n",
      "[[10 20 30 20 40 40]\n",
      " [10 20 30 20 40 40]]\n",
      "converting a tuple into a numpy array\n",
      "((1, 3, 5, 6), (7, 8, 9, 4))\n",
      "[[1 3 5 6]\n",
      " [7 8 9 4]]\n"
     ]
    },
    {
     "data": {
      "text/plain": [
       "numpy.ndarray"
      ]
     },
     "execution_count": 19,
     "metadata": {},
     "output_type": "execute_result"
    }
   ],
   "execution_count": 19
  },
  {
   "metadata": {},
   "cell_type": "markdown",
   "source": "### Analysing a numpy array",
   "id": "82ff28b7b9ad4293"
  },
  {
   "metadata": {
    "ExecuteTime": {
     "end_time": "2025-04-03T17:12:25.080899Z",
     "start_time": "2025-04-03T17:12:25.077189Z"
    }
   },
   "cell_type": "code",
   "source": [
    "c = np.random.randint(10, 100, (5, 5))\n",
    "print(c)"
   ],
   "id": "23a1f5e37eced8cd",
   "outputs": [
    {
     "name": "stdout",
     "output_type": "stream",
     "text": [
      "[[25 12 59 65 13]\n",
      " [59 67 75 51 28]\n",
      " [37 42 18 99 54]\n",
      " [38 63 41 72 64]\n",
      " [94 91 40 49 96]]\n"
     ]
    }
   ],
   "execution_count": 20
  },
  {
   "metadata": {
    "ExecuteTime": {
     "end_time": "2025-04-03T17:12:25.109836Z",
     "start_time": "2025-04-03T17:12:25.106807Z"
    }
   },
   "cell_type": "code",
   "source": [
    "# array dimension---> rows and columns\n",
    "print(c.shape)"
   ],
   "id": "fe92cd006e719032",
   "outputs": [
    {
     "name": "stdout",
     "output_type": "stream",
     "text": [
      "(5, 5)\n"
     ]
    }
   ],
   "execution_count": 21
  },
  {
   "metadata": {
    "ExecuteTime": {
     "end_time": "2025-04-03T17:12:25.135600Z",
     "start_time": "2025-04-03T17:12:25.131756Z"
    }
   },
   "cell_type": "code",
   "source": [
    "# number of dimensions----> it means there are only rows and columns in the array so it has only 2D array\n",
    "print(c.ndim)"
   ],
   "id": "6f5dc55e23fdca34",
   "outputs": [
    {
     "name": "stdout",
     "output_type": "stream",
     "text": [
      "2\n"
     ]
    }
   ],
   "execution_count": 22
  },
  {
   "metadata": {
    "ExecuteTime": {
     "end_time": "2025-04-03T17:12:25.160987Z",
     "start_time": "2025-04-03T17:12:25.154526Z"
    }
   },
   "cell_type": "code",
   "source": [
    "# number of elements in the array\n",
    "print(c.size)"
   ],
   "id": "fc1f37eb10eb3ceb",
   "outputs": [
    {
     "name": "stdout",
     "output_type": "stream",
     "text": [
      "25\n"
     ]
    }
   ],
   "execution_count": 23
  },
  {
   "metadata": {
    "ExecuteTime": {
     "end_time": "2025-04-03T17:12:25.199147Z",
     "start_time": "2025-04-03T17:12:25.191442Z"
    }
   },
   "cell_type": "code",
   "source": [
    "# check the datatype of values in the array\n",
    "print(c.dtype)"
   ],
   "id": "1c524b5aa87023b",
   "outputs": [
    {
     "name": "stdout",
     "output_type": "stream",
     "text": [
      "int32\n"
     ]
    }
   ],
   "execution_count": 24
  },
  {
   "metadata": {},
   "cell_type": "markdown",
   "source": "### Mathematical operations on a numpy array",
   "id": "5e0e818de1c436cc"
  },
  {
   "metadata": {},
   "cell_type": "markdown",
   "source": "* Addition and concatenation",
   "id": "65a040cfabe56478"
  },
  {
   "metadata": {
    "ExecuteTime": {
     "end_time": "2025-04-03T17:12:25.230632Z",
     "start_time": "2025-04-03T17:12:25.225282Z"
    }
   },
   "cell_type": "code",
   "source": [
    "# concatenation of lists\n",
    "list1 = [5, 3, 2, 4, 6]\n",
    "list2 = [52, 31, 24, 43, 64]\n",
    "print(\"the lists are: \",list1, list2)\n",
    "print(\"concatenated list is: \",list1 + list2)\n",
    "\n",
    "\n",
    "\n",
    "# numpy arrays creation\n",
    "np_array1 = np.random.randint(0, 10, (3, 3))\n",
    "np_array2 = np.random.randint(10, 20, (3, 3))\n",
    "print(\"numpy arrays are: \")\n",
    "print(np_array1)\n",
    "print(np_array2)\n",
    "\n",
    "# concatenation of arrays\n",
    "print(\"concatenated numpy arrays are: \")\n",
    "print(np.concatenate((np_array1, np_array2)))\n",
    "\n",
    "# addition of two numpy arrays\n",
    "print(\"addition of numpy arrays are: \")\n",
    "print(np_array1 + np_array2)\n",
    "\n",
    "# subtraction of np arrays\n",
    "print(\"subtraction of numpy arrays are: \")\n",
    "print(np_array1 - np_array2)\n",
    "\n",
    "# product of np arrays\n",
    "print(\"product of numpy arrays are: \")\n",
    "print(np_array1 * np_array2)\n",
    "\n",
    "# division of np arrays\n",
    "print(\"division of numpy arrays are: \")\n",
    "print(np_array1 / np_array2)"
   ],
   "id": "38d5a11acebf4c88",
   "outputs": [
    {
     "name": "stdout",
     "output_type": "stream",
     "text": [
      "the lists are:  [5, 3, 2, 4, 6] [52, 31, 24, 43, 64]\n",
      "concatenated list is:  [5, 3, 2, 4, 6, 52, 31, 24, 43, 64]\n",
      "numpy arrays are: \n",
      "[[1 6 4]\n",
      " [5 8 8]\n",
      " [8 6 5]]\n",
      "[[18 18 19]\n",
      " [19 10 19]\n",
      " [18 16 15]]\n",
      "concatenated numpy arrays are: \n",
      "[[ 1  6  4]\n",
      " [ 5  8  8]\n",
      " [ 8  6  5]\n",
      " [18 18 19]\n",
      " [19 10 19]\n",
      " [18 16 15]]\n",
      "addition of numpy arrays are: \n",
      "[[19 24 23]\n",
      " [24 18 27]\n",
      " [26 22 20]]\n",
      "subtraction of numpy arrays are: \n",
      "[[-17 -12 -15]\n",
      " [-14  -2 -11]\n",
      " [-10 -10 -10]]\n",
      "product of numpy arrays are: \n",
      "[[ 18 108  76]\n",
      " [ 95  80 152]\n",
      " [144  96  75]]\n",
      "division of numpy arrays are: \n",
      "[[0.05555556 0.33333333 0.21052632]\n",
      " [0.26315789 0.8        0.42105263]\n",
      " [0.44444444 0.375      0.33333333]]\n"
     ]
    }
   ],
   "execution_count": 25
  },
  {
   "metadata": {
    "ExecuteTime": {
     "end_time": "2025-04-03T17:12:25.258527Z",
     "start_time": "2025-04-03T17:12:25.244905Z"
    }
   },
   "cell_type": "code",
   "source": [
    "# another method to perform the same operations on numpy arrays: (+ - * /)\n",
    "# numpy arrays creation\n",
    "a = np.random.randint(0, 10, (3, 3))\n",
    "b = np.random.randint(10, 20, (3, 3))\n",
    "print(\"numpy arrays are: \")\n",
    "print(a)\n",
    "print(b)\n",
    "\n",
    "# addition of two numpy arrays\n",
    "print(\"addition of numpy arrays are: \")\n",
    "print(np.add(a, b))\n",
    "\n",
    "# subtraction of np arrays\n",
    "print(\"subtraction of numpy arrays are: \")\n",
    "print(np.subtract(a, b))\n",
    "\n",
    "# product of np arrays\n",
    "print(\"product of numpy arrays are: \")\n",
    "print(np.multiply(a, b))\n",
    "\n",
    "# division of np arrays\n",
    "print(\"division of numpy arrays are: \")\n",
    "print(np.divide(a, b))"
   ],
   "id": "7ade148e77791dcf",
   "outputs": [
    {
     "name": "stdout",
     "output_type": "stream",
     "text": [
      "numpy arrays are: \n",
      "[[5 4 3]\n",
      " [2 4 5]\n",
      " [5 5 0]]\n",
      "[[11 15 18]\n",
      " [11 14 19]\n",
      " [11 10 14]]\n",
      "addition of numpy arrays are: \n",
      "[[16 19 21]\n",
      " [13 18 24]\n",
      " [16 15 14]]\n",
      "subtraction of numpy arrays are: \n",
      "[[ -6 -11 -15]\n",
      " [ -9 -10 -14]\n",
      " [ -6  -5 -14]]\n",
      "product of numpy arrays are: \n",
      "[[55 60 54]\n",
      " [22 56 95]\n",
      " [55 50  0]]\n",
      "division of numpy arrays are: \n",
      "[[0.45454545 0.26666667 0.16666667]\n",
      " [0.18181818 0.28571429 0.26315789]\n",
      " [0.45454545 0.5        0.        ]]\n"
     ]
    }
   ],
   "execution_count": 26
  },
  {
   "metadata": {},
   "cell_type": "markdown",
   "source": "* Indexing & Slicing",
   "id": "200a8d39f55374c4"
  },
  {
   "metadata": {
    "ExecuteTime": {
     "end_time": "2025-04-03T17:12:25.285859Z",
     "start_time": "2025-04-03T17:12:25.280379Z"
    }
   },
   "cell_type": "code",
   "source": [
    "# 1-D array\n",
    "arr = np.array([1, 34, 54, 32, 92, 12, 44, 87, 86, 23])\n",
    "print(arr)\n",
    "\n",
    "print(\"basic slicing: \", arr[2:7])\n",
    "print(\"with step slicing: \", arr[1:8:2])\n",
    "print(\"negative indexing: \", arr[-3])\n",
    "\n",
    "\n",
    "# 2-D array\n",
    "arr_2d = np.array([[1, 2, 4],\n",
    "                   [3, 4, 5],\n",
    "                   [6, 7, 8]])\n",
    "print(\"specific element: \",arr_2d[1, 2])\n",
    "print(\"specific element: \",arr_2d[2][1])\n",
    "\n",
    "print(\"entire row: \", arr_2d[1])\n",
    "\n",
    "print(\"entire column: \", arr_2d[:, 0])"
   ],
   "id": "4b26d75e3df62ff7",
   "outputs": [
    {
     "name": "stdout",
     "output_type": "stream",
     "text": [
      "[ 1 34 54 32 92 12 44 87 86 23]\n",
      "basic slicing:  [54 32 92 12 44]\n",
      "with step slicing:  [34 32 12 87]\n",
      "negative indexing:  87\n",
      "specific element:  5\n",
      "specific element:  7\n",
      "entire row:  [3 4 5]\n",
      "entire column:  [1 3 6]\n"
     ]
    }
   ],
   "execution_count": 27
  },
  {
   "metadata": {},
   "cell_type": "markdown",
   "source": "* Sorting",
   "id": "b9435235d822b21"
  },
  {
   "metadata": {
    "ExecuteTime": {
     "end_time": "2025-04-03T17:12:25.311301Z",
     "start_time": "2025-04-03T17:12:25.306111Z"
    }
   },
   "cell_type": "code",
   "source": [
    "# 1-d array\n",
    "unsorted = np.array([45, 65, 12, 54, 97, 14, 78, 15, 49])\n",
    "print(\"sorted array is: \",np.sort(unsorted))\n",
    "\n",
    "\n",
    "# 2-d array\n",
    "arr_2d_unsorted = np.array([[15, 28, 46], [30, 44, 51], [69, 70, 8]])\n",
    "# sorted by column with axis=0\n",
    "print(\"unsorted array by column is: \",np.sort(arr_2d_unsorted, axis=0))\n",
    "# sorted by rows with axis=1\n",
    "print(\"unsorted array by row is: \",np.sort(arr_2d_unsorted, axis=1))"
   ],
   "id": "be893412919bfeb3",
   "outputs": [
    {
     "name": "stdout",
     "output_type": "stream",
     "text": [
      "sorted array is:  [12 14 15 45 49 54 65 78 97]\n",
      "unsorted array by column is:  [[15 28  8]\n",
      " [30 44 46]\n",
      " [69 70 51]]\n",
      "unsorted array by row is:  [[15 28 46]\n",
      " [30 44 51]\n",
      " [ 8 69 70]]\n"
     ]
    }
   ],
   "execution_count": 28
  },
  {
   "metadata": {},
   "cell_type": "markdown",
   "source": [
    "* Filtering the numpy arrays\n",
    "* filter with mask\n",
    "    * A masked array is the combination of a standard numpy.ndarray and a mask.\n",
    "    * A mask is either nomask, indicating that no value of the associated array is invalid, or an array of booleans that determines for each element of the associated array whether the value is valid or not.\n",
    "    * When an element of the mask is False, the corresponding element of the associated array is valid and is said to be unmasked.\n",
    "    * When an element of the mask is True, the corresponding element of the associated array is said to be masked (invalid)."
   ],
   "id": "d6280ed71de06021"
  },
  {
   "metadata": {
    "ExecuteTime": {
     "end_time": "2025-04-03T17:12:25.330500Z",
     "start_time": "2025-04-03T17:12:25.325422Z"
    }
   },
   "cell_type": "code",
   "source": [
    "numbers = np.array([1, 34, 54, 32, 92, 12, 44, 87, 86, 23])\n",
    "even_number = numbers[numbers % 2 == 0]\n",
    "print(even_number)\n",
    "\n",
    "\n",
    "\n",
    "#filter with mask -> mask ek expression hai jo kisi number ko evaluate karta hai\n",
    "mask = numbers > 5\n",
    "print(mask)\n",
    "print(numbers[mask])"
   ],
   "id": "a1af5accf7875a2f",
   "outputs": [
    {
     "name": "stdout",
     "output_type": "stream",
     "text": [
      "[34 54 32 92 12 44 86]\n",
      "[False  True  True  True  True  True  True  True  True  True]\n",
      "[34 54 32 92 12 44 87 86 23]\n"
     ]
    }
   ],
   "execution_count": 29
  },
  {
   "metadata": {},
   "cell_type": "markdown",
   "source": "* Fancy indexing vs np.where()",
   "id": "f48b3a2cd9d199dd"
  },
  {
   "metadata": {
    "ExecuteTime": {
     "end_time": "2025-04-03T17:12:25.357691Z",
     "start_time": "2025-04-03T17:12:25.348873Z"
    }
   },
   "cell_type": "code",
   "source": [
    "indices = [0, 2, 4]\n",
    "print(numbers[indices])\n",
    "\n",
    "where_result = np.where(numbers > 5)\n",
    "print(\"NP where: \", numbers[where_result])"
   ],
   "id": "7906cfd1648cc540",
   "outputs": [
    {
     "name": "stdout",
     "output_type": "stream",
     "text": [
      "[ 1 54 92]\n",
      "NP where:  [34 54 32 92 12 44 87 86 23]\n"
     ]
    }
   ],
   "execution_count": 30
  },
  {
   "metadata": {},
   "cell_type": "markdown",
   "source": "* conditional array",
   "id": "5d943629f1e948b0"
  },
  {
   "metadata": {
    "ExecuteTime": {
     "end_time": "2025-04-03T17:12:25.387269Z",
     "start_time": "2025-04-03T17:12:25.382629Z"
    }
   },
   "cell_type": "code",
   "source": [
    "num = np.array([1, 2, 3, 4, 5, 6, 7, 8, 9, 10])\n",
    "condition_array = np.where(num > 5, num * 4, num)\n",
    "print(condition_array)\n",
    "\n",
    "# np.where(num > 5, num * 4, num) this statement is also same like as\n",
    "# if(num > 5){\n",
    "#     num * 4\n",
    "# } else {\n",
    "#     num\n",
    "# }"
   ],
   "id": "48fee58af197be25",
   "outputs": [
    {
     "name": "stdout",
     "output_type": "stream",
     "text": [
      "[ 1  2  3  4  5 24 28 32 36 40]\n"
     ]
    }
   ],
   "execution_count": 31
  },
  {
   "metadata": {},
   "cell_type": "markdown",
   "source": "### Array Manipulation",
   "id": "2e91af03fd9c5a1c"
  },
  {
   "metadata": {
    "ExecuteTime": {
     "end_time": "2025-04-03T17:12:25.414802Z",
     "start_time": "2025-04-03T17:12:25.409345Z"
    }
   },
   "cell_type": "code",
   "source": [
    "array = np.random.randint(10, 50, (4, 7))\n",
    "print(array)\n",
    "print(array.shape)\n",
    "\n",
    "# transpose\n",
    "trans = np.transpose(array)\n",
    "print(trans)\n",
    "print(trans.shape)\n",
    "\n",
    "# another method to find the transpose\n",
    "trans2 = array.T\n",
    "print(trans2)\n",
    "print(trans2.shape)"
   ],
   "id": "6d7408f0746ffcda",
   "outputs": [
    {
     "name": "stdout",
     "output_type": "stream",
     "text": [
      "[[36 11 27 47 16 10 30]\n",
      " [20 36 17 17 37 14 43]\n",
      " [40 44 18 44 37 49 12]\n",
      " [47 35 48 17 46 22 36]]\n",
      "(4, 7)\n",
      "[[36 20 40 47]\n",
      " [11 36 44 35]\n",
      " [27 17 18 48]\n",
      " [47 17 44 17]\n",
      " [16 37 37 46]\n",
      " [10 14 49 22]\n",
      " [30 43 12 36]]\n",
      "(7, 4)\n",
      "[[36 20 40 47]\n",
      " [11 36 44 35]\n",
      " [27 17 18 48]\n",
      " [47 17 44 17]\n",
      " [16 37 37 46]\n",
      " [10 14 49 22]\n",
      " [30 43 12 36]]\n",
      "(7, 4)\n"
     ]
    }
   ],
   "execution_count": 32
  },
  {
   "metadata": {
    "ExecuteTime": {
     "end_time": "2025-04-03T17:12:25.446270Z",
     "start_time": "2025-04-03T17:12:25.441580Z"
    }
   },
   "cell_type": "code",
   "source": [
    "a = np.random.randint(0, 10, (2, 3))\n",
    "print(a)\n",
    "print(a.shape)\n",
    "\n",
    "# reshaping the array\n",
    "b = a.reshape(3, 2)\n",
    "print(b)\n",
    "print(b.shape)"
   ],
   "id": "7c9f4c915fc1577e",
   "outputs": [
    {
     "name": "stdout",
     "output_type": "stream",
     "text": [
      "[[4 1 4]\n",
      " [8 6 3]]\n",
      "(2, 3)\n",
      "[[4 1]\n",
      " [4 8]\n",
      " [6 3]]\n",
      "(3, 2)\n"
     ]
    }
   ],
   "execution_count": 33
  },
  {
   "metadata": {},
   "cell_type": "markdown",
   "source": "### Difference btw Scaler, Vector and Tensor",
   "id": "bb95c3c54597f9f8"
  },
  {
   "metadata": {},
   "cell_type": "markdown",
   "source": [
    "1. Scalar:\n",
    "* A single numerical value.\n",
    "* Represented as a 0-dimensional array in NumPy.\n",
    "* Example: 2, 3.14, or -5.\n",
    "2. Vector:\n",
    "* An ordered collection of scalars (numbers).\n",
    "* Represented as a 1-dimensional array in NumPy.\n",
    "* Example: [1, 2, 3] or [4, 5, 6, 7].\n",
    "3. Matrix:\n",
    "* A 2-dimensional array of numbers.\n",
    "* Represented as a 2-dimensional array in NumPy.\n",
    "* Example: [[1, 2], [3, 4]].\n",
    "4. Tensor:\n",
    "* A generalization of matrices to n-dimensions (n > 2).\n",
    "* Represented as an n-dimensional array in NumPy.\n",
    "* Example: [[[1, 2], [3, 4]], [[5, 6], [7, 8]]] (a 3D tensor"
   ],
   "id": "9ffb06c52f7f613d"
  },
  {
   "metadata": {
    "ExecuteTime": {
     "end_time": "2025-04-03T17:12:25.476674Z",
     "start_time": "2025-04-03T17:12:25.467100Z"
    }
   },
   "cell_type": "code",
   "source": [
    "# tensor\n",
    "# ex-1\n",
    "tensor1 = np.array([[[1, 2], [3, 4], [5, 6]],\n",
    "                   [[7, 8], [9, 10], [11, 12]],\n",
    "                   [[13, 14], [15, 16], [17, 18]]])\n",
    "print(tensor1)\n",
    "print(tensor1.shape)\n",
    "print(tensor1.ndim)\n",
    "\n",
    "# Imp Point----> The elements stored in the tensor must have the same no of elements, same no of rows and the same no of columns."
   ],
   "id": "667bab0bb073bd1d",
   "outputs": [
    {
     "name": "stdout",
     "output_type": "stream",
     "text": [
      "[[[ 1  2]\n",
      "  [ 3  4]\n",
      "  [ 5  6]]\n",
      "\n",
      " [[ 7  8]\n",
      "  [ 9 10]\n",
      "  [11 12]]\n",
      "\n",
      " [[13 14]\n",
      "  [15 16]\n",
      "  [17 18]]]\n",
      "(3, 3, 2)\n",
      "3\n"
     ]
    }
   ],
   "execution_count": 34
  },
  {
   "metadata": {},
   "cell_type": "markdown",
   "source": [
    "(3, 3, 2) means that\n",
    "* 3 = no of arrays\n",
    "* 3 = no of rows and\n",
    "* 2 = no of cols"
   ],
   "id": "975ded8a4fb36197"
  },
  {
   "metadata": {},
   "cell_type": "markdown",
   "source": "* Array compatibility",
   "id": "bbd34feb1757a08e"
  },
  {
   "metadata": {
    "ExecuteTime": {
     "end_time": "2025-04-03T17:12:25.492631Z",
     "start_time": "2025-04-03T17:12:25.487492Z"
    }
   },
   "cell_type": "code",
   "source": [
    "a1 = np.array([1, 2, 5])\n",
    "a2 = np.array([7, 8, 9])\n",
    "a3 = np.array([12, 13, 14])\n",
    "\n",
    "print(\"compatibility shapes: \", a1.shape == a2.shape == a3.shape)"
   ],
   "id": "652438523d50b92c",
   "outputs": [
    {
     "name": "stdout",
     "output_type": "stream",
     "text": [
      "compatibility shapes:  True\n"
     ]
    }
   ],
   "execution_count": 35
  },
  {
   "metadata": {},
   "cell_type": "markdown",
   "source": "* Adding extra row and column in array",
   "id": "b78151c56a7a7268"
  },
  {
   "metadata": {
    "ExecuteTime": {
     "end_time": "2025-04-03T17:12:25.515558Z",
     "start_time": "2025-04-03T17:12:25.510442Z"
    }
   },
   "cell_type": "code",
   "source": [
    "# adding row\n",
    "print(\"adding extra row\")\n",
    "original = np.array([[1, 2], [3, 4], [7, 8]])\n",
    "new_row = np.array([[11, 12]])\n",
    "\n",
    "# vstack ---> vertical stack\n",
    "with_new_row = np.vstack((original, new_row))\n",
    "print(\"with new row : \",with_new_row)\n",
    "\n",
    "\n",
    "\n",
    "# adding column\n",
    "print(\"adding extra column\")\n",
    "new_col = np.array([[70], [30], [100]])\n",
    "\n",
    "# hstack ---> horizontal stack\n",
    "with_new_col = np.hstack((original, new_col))\n",
    "print(\"with new columns : \",with_new_col)\n",
    "\n",
    "\n",
    "\n",
    "# adding element\n",
    "element = np.array([[1, 2, 3, 3, 4, 5, 6, 7, 8]])\n",
    "add_element = np.insert(element, 3, 45)\n",
    "print(\"element: \", add_element)"
   ],
   "id": "cbe3e8ef94c73ac1",
   "outputs": [
    {
     "name": "stdout",
     "output_type": "stream",
     "text": [
      "adding extra row\n",
      "with new row :  [[ 1  2]\n",
      " [ 3  4]\n",
      " [ 7  8]\n",
      " [11 12]]\n",
      "adding extra column\n",
      "with new columns :  [[  1   2  70]\n",
      " [  3   4  30]\n",
      " [  7   8 100]]\n",
      "element:  [ 1  2  3 45  3  4  5  6  7  8]\n"
     ]
    }
   ],
   "execution_count": 36
  },
  {
   "metadata": {},
   "cell_type": "markdown",
   "source": "* deletion operation",
   "id": "38f665232e21441"
  },
  {
   "metadata": {
    "ExecuteTime": {
     "end_time": "2025-04-03T17:12:25.534448Z",
     "start_time": "2025-04-03T17:12:25.530422Z"
    }
   },
   "cell_type": "code",
   "source": [
    "# delete the element\n",
    "arrr = np.array([[1, 2, 3, 5, 3, 6, 7, 5]])\n",
    "deleted = np.delete(arrr, 2)\n",
    "print(\"array after deletion: \", deleted)\n",
    "\n",
    "\n",
    "\n",
    "# delete the row -> numpy.delete(array_name, obj, axis=None)\n",
    "obj = np.array([[1, 2, 3, 4],\n",
    "              [5, 6, 7, 8],\n",
    "              [9, 10, 11, 12]])\n",
    "deleted_row = np.delete(obj, 0, 0)\n",
    "print(\"array after deleted 0th row: \", deleted_row)\n",
    "\n",
    "\n",
    "\n",
    "# delete the column -> numpy.delete(array_name, obj, axis=None)\n",
    "deleted_col = np.delete(obj, 1, 1)\n",
    "print(\"array after deleted 1st column: \", deleted_col)"
   ],
   "id": "ffe49697fc72d2e8",
   "outputs": [
    {
     "name": "stdout",
     "output_type": "stream",
     "text": [
      "array after deletion:  [1 2 5 3 6 7 5]\n",
      "array after deleted 0th row:  [[ 5  6  7  8]\n",
      " [ 9 10 11 12]]\n",
      "array after deleted 1st column:  [[ 1  3  4]\n",
      " [ 5  7  8]\n",
      " [ 9 11 12]]\n"
     ]
    }
   ],
   "execution_count": 37
  }
 ],
 "metadata": {
  "kernelspec": {
   "display_name": "Python 3",
   "language": "python",
   "name": "python3"
  },
  "language_info": {
   "codemirror_mode": {
    "name": "ipython",
    "version": 2
   },
   "file_extension": ".py",
   "mimetype": "text/x-python",
   "name": "python",
   "nbconvert_exporter": "python",
   "pygments_lexer": "ipython2",
   "version": "2.7.6"
  }
 },
 "nbformat": 4,
 "nbformat_minor": 5
}
