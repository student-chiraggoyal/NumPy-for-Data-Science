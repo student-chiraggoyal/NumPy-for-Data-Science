{
 "cells": [
  {
   "metadata": {},
   "cell_type": "markdown",
   "source": "# Vectors and it's operations",
   "id": "20c1ce47734a6e92"
  },
  {
   "metadata": {
    "ExecuteTime": {
     "end_time": "2025-04-03T17:12:54.290114Z",
     "start_time": "2025-04-03T17:12:54.220182Z"
    }
   },
   "cell_type": "code",
   "source": "import numpy as np",
   "id": "eec8014a29c2f269",
   "outputs": [],
   "execution_count": 1
  },
  {
   "metadata": {},
   "cell_type": "markdown",
   "source": "* Addition, subtraction, multiplication and division",
   "id": "497ce72db03e65ed"
  },
  {
   "cell_type": "code",
   "id": "initial_id",
   "metadata": {
    "collapsed": true,
    "ExecuteTime": {
     "end_time": "2025-04-03T17:12:54.301089Z",
     "start_time": "2025-04-03T17:12:54.294370Z"
    }
   },
   "source": [
    "vector1 = np.array([1, 2, 3, 4, 5, 6])\n",
    "vector2 = np.array([6, 7, 8, 9, 10, 11])\n",
    "\n",
    "print(\"vector addition is: \",vector1 + vector2)\n",
    "print(\"vector subtraction is: \",vector1 - vector2)\n",
    "print(\"vector multiplication is: \",vector1 * vector2)\n",
    "print(\"vector division is: \",vector1 / vector2)\n",
    "\n",
    "\n",
    "print(\"vector addition is: \", np.add(vector1, vector2))\n",
    "print(\"vector subtraction is: \", np.subtract(vector1, vector2))\n",
    "print(\"vector multiplication is: \", np.multiply(vector1, vector2))\n",
    "print(\"vector division is: \", np.divide(vector1, vector2))"
   ],
   "outputs": [
    {
     "name": "stdout",
     "output_type": "stream",
     "text": [
      "vector addition is:  [ 7  9 11 13 15 17]\n",
      "vector subtraction is:  [-5 -5 -5 -5 -5 -5]\n",
      "vector multiplication is:  [ 6 14 24 36 50 66]\n",
      "vector division is:  [0.16666667 0.28571429 0.375      0.44444444 0.5        0.54545455]\n",
      "vector addition is:  [ 7  9 11 13 15 17]\n",
      "vector subtraction is:  [-5 -5 -5 -5 -5 -5]\n",
      "vector multiplication is:  [ 6 14 24 36 50 66]\n",
      "vector division is:  [0.16666667 0.28571429 0.375      0.44444444 0.5        0.54545455]\n"
     ]
    }
   ],
   "execution_count": 2
  },
  {
   "metadata": {},
   "cell_type": "markdown",
   "source": "* Dot product and cross product of the vectors",
   "id": "71464768030e1807"
  },
  {
   "metadata": {
    "ExecuteTime": {
     "end_time": "2025-04-03T17:12:54.429499Z",
     "start_time": "2025-04-03T17:12:54.425318Z"
    }
   },
   "cell_type": "code",
   "source": [
    "vector1 = np.array([1, 2, 3, 4, 5, 6])\n",
    "vector2 = np.array([6, 7, 8, 9, 10, 11])\n",
    "\n",
    "vector3 = np.array([10, 20, 30])\n",
    "vector4 = np.array([40, 50, 60])\n",
    "\n",
    "print(\"vector dot product is: \", np.dot(vector1, vector2))\n",
    "print(\"vector cross product is: \", np.cross(vector3, vector4))"
   ],
   "id": "e05df20de1914220",
   "outputs": [
    {
     "name": "stdout",
     "output_type": "stream",
     "text": [
      "vector dot product is:  196\n",
      "vector cross product is:  [-300  600 -300]\n"
     ]
    }
   ],
   "execution_count": 3
  },
  {
   "metadata": {},
   "cell_type": "markdown",
   "source": "find the angle between the vectors",
   "id": "f9c6b861d26bacfc"
  },
  {
   "metadata": {
    "ExecuteTime": {
     "end_time": "2025-04-03T17:12:54.483391Z",
     "start_time": "2025-04-03T17:12:54.479059Z"
    }
   },
   "cell_type": "code",
   "source": [
    "vector1 = np.array([1, 2, 3, 4, 5, 6])\n",
    "vector2 = np.array([6, 7, 8, 9, 10, 11])\n",
    "\n",
    "# to find the angle between the two vectors we use np.arccos\n",
    "angle = np.arccos(np.dot(vector1, vector2) / (np.linalg.norm(vector1) * np.linalg.norm(vector2)))\n",
    "print(\"the angle between vector 1 and vector 2 is: \",angle)"
   ],
   "id": "2069e923c581be3b",
   "outputs": [
    {
     "name": "stdout",
     "output_type": "stream",
     "text": [
      "the angle between vector 1 and vector 2 is:  0.2556806532033898\n"
     ]
    }
   ],
   "execution_count": 4
  },
  {
   "metadata": {},
   "cell_type": "markdown",
   "source": "* Scaler multiplication in vectors",
   "id": "c5547b2fd203a493"
  },
  {
   "metadata": {
    "ExecuteTime": {
     "end_time": "2025-04-03T17:12:54.509148Z",
     "start_time": "2025-04-03T17:12:54.504819Z"
    }
   },
   "cell_type": "code",
   "source": [
    "v = np.array([1, 2, 3, 4, 5, 6])\n",
    "print(\"scaler multiplication is: \", 2*v);"
   ],
   "id": "3a4b2bbd65369fff",
   "outputs": [
    {
     "name": "stdout",
     "output_type": "stream",
     "text": [
      "scaler multiplication is:  [ 2  4  6  8 10 12]\n"
     ]
    }
   ],
   "execution_count": 5
  },
  {
   "metadata": {},
   "cell_type": "markdown",
   "source": [
    "### Vectorised operations\n",
    "These operations perform the operation on every value of the matrix"
   ],
   "id": "3cf338737aa36252"
  },
  {
   "metadata": {
    "ExecuteTime": {
     "end_time": "2025-04-03T17:12:54.549117Z",
     "start_time": "2025-04-03T17:12:54.536875Z"
    }
   },
   "cell_type": "code",
   "source": [
    "# upper case values of the array\n",
    "restaurant_types = np.array(['biryani', 'chinese', 'italian', 'indian', 'kashmiri'])\n",
    "vectorized_upper = np.vectorize(str.upper)\n",
    "print(\"vectorized upper case is: \", vectorized_upper(restaurant_types))"
   ],
   "id": "ee26ad8db35cc7cb",
   "outputs": [
    {
     "name": "stdout",
     "output_type": "stream",
     "text": [
      "vectorized upper case is:  ['BIRYANI' 'CHINESE' 'ITALIAN' 'INDIAN' 'KASHMIRI']\n"
     ]
    }
   ],
   "execution_count": 6
  },
  {
   "metadata": {
    "ExecuteTime": {
     "end_time": "2025-04-03T17:12:54.595114Z",
     "start_time": "2025-04-03T17:12:54.584297Z"
    }
   },
   "cell_type": "code",
   "source": [
    "# lower case values of the array\n",
    "restaurant_types = np.array(['BIRYANI', 'CHINESE', 'ITALIAN', 'INDIAN', 'KASHMIRI'])\n",
    "vectorized_lower = np.vectorize(str.lower)\n",
    "print(\"vectorized lower case is: \", vectorized_lower(restaurant_types))"
   ],
   "id": "c0ccb177b4c96409",
   "outputs": [
    {
     "name": "stdout",
     "output_type": "stream",
     "text": [
      "vectorized lower case is:  ['biryani' 'chinese' 'italian' 'indian' 'kashmiri']\n"
     ]
    }
   ],
   "execution_count": 7
  }
 ],
 "metadata": {
  "kernelspec": {
   "display_name": "Python 3",
   "language": "python",
   "name": "python3"
  },
  "language_info": {
   "codemirror_mode": {
    "name": "ipython",
    "version": 2
   },
   "file_extension": ".py",
   "mimetype": "text/x-python",
   "name": "python",
   "nbconvert_exporter": "python",
   "pygments_lexer": "ipython2",
   "version": "2.7.6"
  }
 },
 "nbformat": 4,
 "nbformat_minor": 5
}
